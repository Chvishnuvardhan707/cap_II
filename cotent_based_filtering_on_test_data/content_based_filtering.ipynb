{
 "cells": [
  {
   "cell_type": "markdown",
   "metadata": {},
   "source": [
    "# Movie Recommendation Engine"
   ]
  },
  {
   "cell_type": "code",
   "execution_count": 1,
   "metadata": {
    "scrolled": true
   },
   "outputs": [],
   "source": [
    "import pandas as pd\n",
    "import numpy as np\n",
    "import json\n",
    "import ast\n",
    "from sklearn.linear_model import Ridge\n",
    "from sklearn.linear_model import LinearRegression\n",
    "from sklearn.neural_network import MLPClassifier"
   ]
  },
  {
   "cell_type": "markdown",
   "metadata": {},
   "source": [
    "# Ratings Numpy"
   ]
  },
  {
   "cell_type": "code",
   "execution_count": 2,
   "metadata": {},
   "outputs": [],
   "source": [
    "def get_ratings_matrix():\n",
    "    movies_dataset = pd.read_csv('./the-movies-dataset/ratings_small.csv', low_memory=False)\n",
    "    ratings = movies_dataset.values\n",
    "    movie_ids = np.array(movies_dataset.iloc[:, 1].unique())\n",
    "    no_movie_ids = movie_ids.max() + 1\n",
    "    user_ids = np.array(movies_dataset.iloc[:, 0].unique())\n",
    "    no_user_ids = user_ids.max()\n",
    "    matrix = np.zeros((no_user_ids, no_movie_ids))\n",
    "    for i in range(1, no_user_ids + 1):\n",
    "        var1 = (ratings[ratings[:, 0] == i])[:, 1]\n",
    "        var1 = var1.astype(int)\n",
    "        var2 = (ratings[ratings[:, 0] == i])[:, 2]\n",
    "        temp = np.zeros(no_movie_ids)\n",
    "        temp[var1] = var2\n",
    "        matrix[i - 1] = temp\n",
    "    matrix = matrix.transpose()\n",
    "    temp = np.arange(1, matrix.shape[0] + 1).reshape(matrix.shape[0], 1)\n",
    "    matrix = np.hstack([temp, matrix])\n",
    "    user_ids = np.insert(user_ids, 0, 0)\n",
    "    matrix = np.vstack([user_ids, matrix])\n",
    "    ratings = pd.DataFrame(data=matrix[1:, 1:], index=matrix[1:, 0], columns=matrix[0, 1:])\n",
    "    ratings.index = ratings.index.astype('int32')\n",
    "    ratings.columns = ratings.columns.astype('int32')\n",
    "    ratings.index.name = \"id\"\n",
    "    return ratings, movie_ids, user_ids"
   ]
  },
  {
   "cell_type": "markdown",
   "metadata": {},
   "source": [
    "# Features Numpy"
   ]
  },
  {
   "cell_type": "code",
   "execution_count": 3,
   "metadata": {},
   "outputs": [],
   "source": [
    "# global variable\n",
    "set_genres = set()\n",
    "dict_genres = {}\n",
    "\n",
    "\n",
    "def get_genres(x):\n",
    "    js = json.loads(str(x))\n",
    "    genres = [li['name'] for li in js]\n",
    "    set(genres)\n",
    "    return genres\n",
    "\n",
    "\n",
    "def list_genres(x):\n",
    "    global set_genres\n",
    "    set_genres |= set(x)\n",
    "\n",
    "\n",
    "def features(x):\n",
    "    global dict_genres\n",
    "    list_feature = [0] * len(dict_genres)\n",
    "    if len(x) == 0:\n",
    "        return np.nan\n",
    "    value = 1.0 / (float(len(x)))\n",
    "    for item in x:\n",
    "        list_feature[dict_genres[item]] = value\n",
    "    return np.around(list_feature, decimals=2)\n",
    "\n",
    "\n",
    "features_matrix = np.arange(20).reshape((1, 20))\n",
    "\n",
    "\n",
    "def generate_features_matrix(x):\n",
    "    global features_matrix\n",
    "    x.reshape((1, 20))\n",
    "    features_matrix = np.vstack([features_matrix, x])\n",
    "\n",
    "\n",
    "def get_features():\n",
    "    movies_metadata = pd.read_csv('./the-movies-dataset/movies_metadata.csv', low_memory=False)\n",
    "    movies_metadata.drop(movies_metadata[movies_metadata.id == \"1997-08-20\"].index, inplace=True)\n",
    "    movies_metadata.drop(movies_metadata[movies_metadata.id == \"2012-09-29\"].index, inplace=True)\n",
    "    movies_metadata.drop(movies_metadata[movies_metadata.id == \"2014-01-01\"].index, inplace=True)\n",
    "    movies_metadata[\"genres\"] = movies_metadata.genres.apply(lambda x: str(x).replace(\"'\", '\"'))\n",
    "    movies_metadata[\"belongs_to_collection\"] = movies_metadata.belongs_to_collection.apply(\n",
    "        lambda x: str(x).replace(\"'\", '\"'))\n",
    "    movies_metadata[\"genres_list\"] = movies_metadata.genres.apply(get_genres)\n",
    "    movies_metadata.genres_list.apply(list_genres)\n",
    "    global set_genres\n",
    "    global dict_genres\n",
    "    set_genres = list(set_genres)\n",
    "    set_genres.sort()\n",
    "    for index, item in enumerate(set_genres):\n",
    "        dict_genres[item] = index\n",
    "    movies_metadata[\"features_genres\"] = movies_metadata[\"genres_list\"].apply(features)\n",
    "    movies_metadata.dropna(subset=['features_genres'], inplace=True)\n",
    "    movie_names = movies_metadata.loc[:, ['original_title', 'id']]\n",
    "    movie_names['id'] = pd.to_numeric(movie_names.id, errors='coerce').fillna(0).astype(np.int64)\n",
    "    movie_names.set_index(['id'], inplace=True)\n",
    "    features_dataframe = movies_metadata.loc[:, ['id', 'features_genres']]\n",
    "    features_dataframe.set_index(['id'], inplace=True)\n",
    "    movie_ids = movies_metadata['id'].values\n",
    "    movie_ids = movie_ids.astype(np.int)\n",
    "    features_dataframe.features_genres.apply(generate_features_matrix)\n",
    "    features_dataframe = pd.DataFrame(data=features_matrix[1:, :], columns=features_matrix[0, :], index=movie_ids)\n",
    "    features_dataframe.index.name = 'id'\n",
    "    features_dataframe.columns = features_dataframe.columns.astype('int32')\n",
    "    features_dataframe.index = features_dataframe.index.astype('int32')\n",
    "    return features_dataframe, movie_ids, np.array(list(set_genres)), movie_names\n"
   ]
  },
  {
   "cell_type": "markdown",
   "metadata": {},
   "source": [
    "# Filter"
   ]
  },
  {
   "cell_type": "code",
   "execution_count": 4,
   "metadata": {},
   "outputs": [],
   "source": [
    "def filter():\n",
    "    ratings, movie_ids_ratings, user_ids = get_ratings_matrix()\n",
    "    features_dataframe, movie_ids_features, list_genres, movie_names = get_features()\n",
    "    movie_ids_ratings = set(movie_ids_ratings)\n",
    "    movie_ids_features = set(movie_ids_features)\n",
    "    movies_common = movie_ids_features.intersection(movie_ids_ratings)\n",
    "    movies_common = list(movies_common)\n",
    "    ratings = ratings.loc[movies_common, :]\n",
    "    features_dataframe = features_dataframe.loc[movies_common, :]\n",
    "    return features_dataframe.values[1:, :], ratings.values[:, 1:], np.array(movies_common), user_ids, list_genres, movie_names"
   ]
  },
  {
   "cell_type": "markdown",
   "metadata": {},
   "source": [
    "# Main"
   ]
  },
  {
   "cell_type": "code",
   "execution_count": 5,
   "metadata": {},
   "outputs": [],
   "source": [
    "X, ratings_vector, movies_ids, user_ids, list_genres, movie_names = filter()"
   ]
  },
  {
   "cell_type": "code",
   "execution_count": null,
   "metadata": {},
   "outputs": [],
   "source": [
    "movie_names"
   ]
  },
  {
   "cell_type": "code",
   "execution_count": 11,
   "metadata": {},
   "outputs": [],
   "source": [
    "clf = LinearRegression()\n",
    "top_5_recommendations = np.empty((ratings_vector.shape[1], 5),dtype=np.dtype(object))   \n",
    "for i in range(ratings_vector.shape[1]):\n",
    "    single_y = ratings_vector[:, i]\n",
    "    if single_y[single_y != 0].shape[0] != 0:\n",
    "        positions = np.nonzero(single_y)[0]                                                              \n",
    "        remaining_positions = np.where(single_y == 0)[0]                                                 \n",
    "        reg = clf.fit(X[positions], single_y[positions])                                                 \n",
    "        predictions = reg.predict(X[remaining_positions])                                                \n",
    "        top_5_recommendations_each = movies_ids[np.argsort(predictions)[-5:]]                            \n",
    "        top_5_recommendations[i] = movie_names.loc[top_5_recommendations_each,:].values.reshape(1,5)[0]  "
   ]
  },
  {
   "cell_type": "code",
   "execution_count": 21,
   "metadata": {
    "collapsed": true
   },
   "outputs": [
    {
     "name": "stdout",
     "output_type": "stream",
     "text": [
      "Ratings given by user 1\n",
      "========================\n",
      "Star Wars      -        4.0\n",
      "The Fifth Element      -        5.0\n",
      "Twelve Monkeys      -        4.0\n",
      "Scarface      -        4.0\n",
      "Breaking the Waves      -        5.0\n",
      "Star Trek II: The Wrath of Khan      -        4.0\n",
      "Edward Scissorhands      -        4.0\n",
      "La Boum      -        5.0\n",
      "Predator 2      -        5.0\n",
      "Lucky Number Slevin      -        4.0\n",
      "Sin City      -        4.0\n",
      "Rebecca      -        4.0\n",
      "Człowiek z marmuru      -        4.0\n",
      "Muriel's Wedding      -        4.0\n",
      "The War of the Roses      -        4.0\n",
      "King Kong      -        4.0\n",
      "The King of Comedy      -        4.0\n",
      "Le Mépris      -        4.0\n",
      "Carne trémula      -        5.0\n",
      "Das weisse Rauschen      -        5.0\n",
      "The Silence of the Lambs      -        5.0\n",
      "A River Runs Through It      -        5.0\n",
      "Rio Bravo      -        4.0\n",
      "\n",
      "Movies Recommended for user 1\n",
      "=============================\n",
      "['Deconstructing Harry' \"C'era una volta il West\" \"Miller's Crossing\"\n",
      " 'Meet Me in St. Louis' \"I'll Sleep When I'm Dead\"]\n"
     ]
    }
   ],
   "source": [
    "single_y = ratings_vector[:, 0]    \n",
    "positions = np.nonzero(single_y)[0]\n",
    "single_y = single_y[positions]\n",
    "single_y = single_y[single_y >=4.0]\n",
    "print(\"Ratings given by user 1\")\n",
    "print(\"========================\")\n",
    "for i in range(single_y.shape[0]):                                                                               \n",
    "    print(movie_names.loc[movies_ids[positions],'original_title'].values[i]+\"      -        \" + str(single_y[i]))\n",
    "print()\n",
    "print(\"Movies Recommended for user 1\")\n",
    "print(\"=============================\")\n",
    "print(top_5_recommendations[0])"
   ]
  },
  {
   "cell_type": "code",
   "execution_count": null,
   "metadata": {},
   "outputs": [],
   "source": []
  }
 ],
 "metadata": {
  "kernelspec": {
   "display_name": "Python 3",
   "language": "python",
   "name": "python3"
  },
  "language_info": {
   "codemirror_mode": {
    "name": "ipython",
    "version": 3
   },
   "file_extension": ".py",
   "mimetype": "text/x-python",
   "name": "python",
   "nbconvert_exporter": "python",
   "pygments_lexer": "ipython3",
   "version": "3.7.1"
  }
 },
 "nbformat": 4,
 "nbformat_minor": 2
}
