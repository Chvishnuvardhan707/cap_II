{
 "cells": [
  {
   "cell_type": "code",
   "execution_count": 10,
   "metadata": {},
   "outputs": [],
   "source": [
    "import numpy as np\n",
    "import pandas as pd\n",
    "from scipy.optimize import minimize\n",
    "import pymysql\n",
    "from pandas.io import sql as s\n",
    "from sqlalchemy import create_engine"
   ]
  },
  {
   "cell_type": "code",
   "execution_count": 4,
   "metadata": {},
   "outputs": [],
   "source": [
    "def cost_function(grad):\n",
    "    global ratings, no_of_features, no_of_movies, no_of_users\n",
    "    grad = grad.reshape(no_of_movies + no_of_users, no_of_features)\n",
    "    movie_features_X = grad[:no_of_movies, :]\n",
    "    user_features_theta = grad[no_of_movies:, :]\n",
    "    theta_times_x = movie_features_X.dot(user_features_theta.transpose())\n",
    "    R = np.ones(ratings.shape)\n",
    "    R[ratings == 0] = 0\n",
    "    theta_times_x = theta_times_x * R\n",
    "    ratings_temp = ratings * R\n",
    "    return np.sum(((theta_times_x - ratings_temp) ** 2) / 2)"
   ]
  },
  {
   "cell_type": "code",
   "execution_count": 5,
   "metadata": {},
   "outputs": [],
   "source": [
    "def grad_function(grad):\n",
    "    global ratings, no_of_features, no_of_movies, no_of_users\n",
    "    grad = grad.reshape(no_of_movies + no_of_users, no_of_features)\n",
    "    movie_features_X = grad[:no_of_movies, :]\n",
    "    user_features_theta = grad[no_of_movies:, :]\n",
    "    theta_times_x = movie_features_X.dot(user_features_theta.transpose())\n",
    "    R = np.ones(ratings.shape)\n",
    "    R[ratings == 0] = 0\n",
    "    theta_times_x = theta_times_x * R\n",
    "    ratings_temp = ratings * R\n",
    "    grad_X = (theta_times_x - ratings_temp).dot(user_features_theta)\n",
    "    grad_theta = ((theta_times_x - ratings_temp).transpose()).dot(movie_features_X)\n",
    "    return np.vstack((grad_X, grad_theta)).flatten()\n"
   ]
  },
  {
   "cell_type": "code",
   "execution_count": 6,
   "metadata": {},
   "outputs": [],
   "source": [
    "def get_matrix(table,cnx):\n",
    "    movies_dataset = pd.read_sql_table(con=cnx,table_name='ratings')\n",
    "    ratings = movies_dataset.values\n",
    "    movie_ids = np.array(movies_dataset.iloc[:, 1].unique())\n",
    "    no_movie_ids = movie_ids.max() + 1\n",
    "    user_ids = np.array(movies_dataset.iloc[:, 0].unique())\n",
    "    no_user_ids = user_ids.max()\n",
    "    matrix = np.zeros((no_user_ids, no_movie_ids))\n",
    "    for i in range(1, no_user_ids + 1):\n",
    "        var1 = (ratings[ratings[:, 0] == i])[:, 1]\n",
    "        var1 = var1.astype(int)\n",
    "        var2 = (ratings[ratings[:, 0] == i])[:, 2]\n",
    "        temp = np.zeros(no_movie_ids)\n",
    "        temp[var1] = var2\n",
    "        matrix[i - 1] = temp\n",
    "    matrix = matrix.transpose()\n",
    "    matrix = np.delete(matrix, 0, 0)\n",
    "    return matrix"
   ]
  },
  {
   "cell_type": "code",
   "execution_count": 7,
   "metadata": {},
   "outputs": [],
   "source": [
    "def recommendations(cnx):\n",
    "    global no_of_users, no_of_movies, no_of_features, ratings\n",
    "    ratings = get_matrix('ratings',cnx)\n",
    "    no_of_users = ratings.shape[1]\n",
    "    no_of_movies = ratings.shape[0]\n",
    "    no_of_features = 15\n",
    "    movie_features_X = np.random.rand(no_of_movies, no_of_features)\n",
    "    user_features_theta = np.random.rand(no_of_users, no_of_features)\n",
    "    grad = np.vstack((movie_features_X, user_features_theta))\n",
    "    grad = grad.flatten()\n",
    "    sol = minimize(fun=cost_function, x0=grad, method=\"BFGS\", jac=grad_function, options={'maxiter': 50})\n",
    "    solution = sol.x.reshape(no_of_movies + no_of_users, no_of_features)\n",
    "    solution_movie_features = solution[:no_of_movies, :]\n",
    "    solution_user_theta = solution[no_of_movies:, :]\n",
    "    ratings_predicted = solution_movie_features.dot(solution_user_theta.transpose())\n",
    "    R = np.zeros(ratings.shape)\n",
    "    R[ratings == 0] = 1\n",
    "    ratings_predicted = ratings_predicted * R\n",
    "    predictions = pd.DataFrame(data=ratings_predicted, columns=np.arange(1, no_of_users + 1),\n",
    "                               index=np.arange(1, no_of_movies + 1))\n",
    "    top_5_predictions = pd.DataFrame(columns=['userId', 'movieId'])\n",
    "    for i in range(1, no_of_users + 1):\n",
    "        for_each_user = predictions.nlargest(6, [i]).loc[:, [i]]\n",
    "        for_each_user['userId'] = np.full(6, i)\n",
    "        for_each_user['movieId'] = for_each_user.index\n",
    "        for_each_user.index = np.arange(6)\n",
    "        top_5_predictions = top_5_predictions.append(for_each_user.loc[:, ['userId', 'movieId']], ignore_index=True)\n",
    "    return top_5_predictions"
   ]
  }
 ],
 "metadata": {
  "kernelspec": {
   "display_name": "Python 3",
   "language": "python",
   "name": "python3"
  },
  "language_info": {
   "codemirror_mode": {
    "name": "ipython",
    "version": 3
   },
   "file_extension": ".py",
   "mimetype": "text/x-python",
   "name": "python",
   "nbconvert_exporter": "python",
   "pygments_lexer": "ipython3",
   "version": "3.6.8"
  }
 },
 "nbformat": 4,
 "nbformat_minor": 2
}
